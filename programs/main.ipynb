{
 "cells": [
  {
   "cell_type": "code",
   "execution_count": null,
   "id": "f684b1f8",
   "metadata": {
    "vscode": {
     "languageId": "plaintext"
    }
   },
   "outputs": [],
   "source": [
    "import pandas as pd\n",
    "import sklearn as sk\n",
    "import numpy as np\n",
    "from matplotlib import pyplot as plt\n",
    "from sklearn.decomposition import PCA\n",
    "import seaborn as sns\n",
    "from sklearn.preprocessing import StandardScaler"
   ]
  },
  {
   "cell_type": "code",
   "execution_count": null,
   "id": "35824508",
   "metadata": {
    "vscode": {
     "languageId": "plaintext"
    }
   },
   "outputs": [],
   "source": [
    "# чтение данных\n",
    "df = pd.read_csv('whole_data.csv')"
   ]
  },
  {
   "cell_type": "code",
   "execution_count": null,
   "id": "8cf6d658",
   "metadata": {
    "vscode": {
     "languageId": "plaintext"
    }
   },
   "outputs": [],
   "source": [
    "# удаление колонок\n",
    "delcols = [\n",
    "    'type',\n",
    "    'Bmag',\n",
    "    # 'gpmag', # высокая корреляция\n",
    "    # 'rpmag', # высокая корреляция\n",
    "    # 'ipmag', # высокая корреляция\n",
    "    # 'err',\n",
    "    # 'nobs',\n",
    "    'e_ipmag',\n",
    "    'e_Vmag',\n",
    "    'e_rpmag',\n",
    "    'e_gpmag',\n",
    "    'e_Bmag'\n",
    "]\n",
    "data = df.drop(columns=delcols)"
   ]
  },
  {
   "cell_type": "code",
   "execution_count": null,
   "id": "799d48d0",
   "metadata": {
    "vscode": {
     "languageId": "plaintext"
    }
   },
   "outputs": [],
   "source": [
    "# удаление NaN-ов\n",
    "data = data.dropna().reset_index()"
   ]
  },
  {
   "cell_type": "code",
   "execution_count": null,
   "id": "09a3d3f4",
   "metadata": {
    "vscode": {
     "languageId": "plaintext"
    }
   },
   "outputs": [],
   "source": [
    "# стандатизируем признаки\n",
    "scaler = StandardScaler()\n",
    "present = data['present']\n",
    "newdata = pd.DataFrame(data = scaler.fit_transform(data),\n",
    " columns = data.columns)"
   ]
  },
  {
   "cell_type": "code",
   "execution_count": null,
   "id": "21f2482f",
   "metadata": {
    "vscode": {
     "languageId": "plaintext"
    }
   },
   "outputs": [],
   "source": [
    "# уменьшаем кол-во измерений\n",
    "pca = PCA(n_components=6)\n",
    "pca = pca.fit_transform(newdata)\n",
    "pca_df = pd.DataFrame(data = pca)\n",
    "pca_df['present'] = present"
   ]
  },
  {
   "cell_type": "code",
   "execution_count": null,
   "id": "01b91045",
   "metadata": {
    "vscode": {
     "languageId": "plaintext"
    }
   },
   "outputs": [],
   "source": [
    "# разделение выборки на тренировочную и тестовую\n",
    "y = pca_df['present']\n",
    "X = pca_df.drop(columns='present')\n",
    "X_train, X_test, y_train, y_test = sk.model_selection.train_test_split(X, y, train_size=0.8)"
   ]
  },
  {
   "cell_type": "code",
   "execution_count": null,
   "id": "a4d2afe6",
   "metadata": {
    "vscode": {
     "languageId": "plaintext"
    }
   },
   "outputs": [],
   "source": [
    "# тренировка модели\n",
    "classifier = sk.ensemble.RandomForestClassifier()\n",
    "classifier.fit(X_train, y_train)"
   ]
  },
  {
   "cell_type": "code",
   "execution_count": null,
   "id": "98392e26",
   "metadata": {
    "vscode": {
     "languageId": "plaintext"
    }
   },
   "outputs": [],
   "source": [
    "# проверка метрикой f1\n",
    "res = classifier.predict(X_test)\n",
    "sk.metrics.f1_score(y_test, res)"
   ]
  }
 ],
 "metadata": {
  "language_info": {
   "name": "python"
  }
 },
 "nbformat": 4,
 "nbformat_minor": 5
}
